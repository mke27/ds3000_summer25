{
 "cells": [
  {
   "cell_type": "markdown",
   "metadata": {},
   "source": [
    "# DS 3000/CS 3200 Lab 1\n",
    "\n",
    "Due: Tuesday May 13 in-class\n",
    "\n",
    "### Submission Instructions\n",
    "Upload this `ipynb` file to GitHub, and then to Gradescope.  To ensure that your submitted `ipynb` file represents your latest code, make sure to give a fresh `Kernel > Restart & Run All` just before uploading the `ipynb` file to GitHub and verify that the correct version is represented on Gradescope.\n",
    "\n",
    "### Tips for success\n",
    "- Collaborate: bounce ideas off of each other, if you are having trouble you can ask your classmates or Dr. Gerber for help with specific issues, however...\n",
    "- [(See)](http://www.northeastern.edu/osccr/academic-integrity), i.e. you are welcome to **talk about/discuss** (*not* show or allow each other to copy your answers to) the problems."
   ]
  },
  {
   "cell_type": "markdown",
   "metadata": {},
   "source": [
    "# Part 1 (40 points): Intro to Markdown\n",
    "\n",
    "Use the markdown language below to create your own brief wikipedia-esque description of a topic related to International Government and Politics. \n",
    "\n",
    "Your mini-wiki page must include:\n",
    "- three headers: a title, subtitle and subsubtitle (the #, ##, ### syntax)\n",
    "- an embedded image from a web address (use an [image hosting site](https://makeawebsitehub.com/free-photo-hosting/) if you'd like to upload your own)\n",
    "- a **markdown** table of size at least 9 cells (i.e. 3 by 3, or 5 by 2)\n",
    "- a list in **markdown**\n",
    "- a link to another website\n",
    "\n",
    "To practice typing in math mode, also include a LaTeX formula describing how your final grade is going to be calculated based on the syllabus, something like:\n",
    "\n",
    "$$grade = weight_1*score_1 + weight_2*score_2$$\n",
    "\n",
    "Please be **brief** in your text.  Aim for roughly 3 sentences total of text."
   ]
  },
  {
   "cell_type": "markdown",
   "metadata": {},
   "source": [
    "# Economics and International Relations\n",
    "![alt text](trade.jpeg \"Trade\")\n",
    "## Brief Introduction\n",
    "Economics plays a role in international relations through aspects such as global trade and foreign aid. The exchange of goods and services between countries is governed by a network of laws, regulations, and agreements through organizations such as the World Trade Organization. Trade is beneficial as it makes up a large portion of many countries' GDP and provides people with products that may not be available domestically. \n",
    "### Importance\n",
    "Economics is an important aspect of international relations, as it informs policy decisions during situations such as trade wars and financial crises.\n",
    "\n",
    "- foreign aid\n",
    "- financial crisis\n",
    "- international trade\n",
    "- trade wars\n",
    "\n",
    "[World Trade Organization](https://www.wto.org/)\n",
    "\n",
    "| Currency  | Region | Rate (to $) |\n",
    "| --- | --- | --- |\n",
    "| Pound | UK | 1.32 |\n",
    "| Euro | EU | 1.11 |\n",
    "\n",
    "$$grade = 0.40*in class activities + 0.60*homework$$"
   ]
  },
  {
   "cell_type": "markdown",
   "metadata": {},
   "source": [
    "# Part 2: Numpy\n",
    "## Part 2.1: Creating Arrays (10 points)\n",
    "\n",
    "Create the following two arrays using the NumPy library and then print them out. Call the first array `array_a` and the second array `array_b` (make sure you keep the `import` statement below):\n",
    "\n",
    "$$\\mathbf{array_a} = \\begin{bmatrix}3 & 8 & -2 & 3\\\\\n",
    ".5 & -1 & 6 & 4\\\\\n",
    "-5 & 7 & -42 & 2\n",
    "\\end{bmatrix}$$\n",
    "\n",
    "$$\\mathbf{array_b} = \\begin{bmatrix}42 & 38 & 34\\\\\n",
    "30 & 26 & 22\\\\\n",
    "18 & 14 & 10\\\\\n",
    "6 & 2 & -2\\\\\n",
    "-6 & -10 & -14\n",
    "\\end{bmatrix}$$"
   ]
  },
  {
   "cell_type": "code",
   "execution_count": 14,
   "metadata": {},
   "outputs": [],
   "source": [
    "# make sure to import numpy library\n",
    "import numpy as np"
   ]
  },
  {
   "cell_type": "code",
   "execution_count": 21,
   "metadata": {},
   "outputs": [],
   "source": [
    "array_a = np.array([[3,8,-2,3],\n",
    "                    [.5,-1,6,4],\n",
    "                    [-5,7,-42,2]])\n",
    "array_b = np.array([[42,38,34],\n",
    "                    [30,26,22],\n",
    "                    [18,14,10],\n",
    "                    [6,2,-2],\n",
    "                    [-6,-10,-14]])"
   ]
  },
  {
   "cell_type": "code",
   "execution_count": 23,
   "metadata": {},
   "outputs": [
    {
     "data": {
      "text/plain": [
       "array([[  3. ,   8. ,  -2. ,   3. ],\n",
       "       [  0.5,  -1. ,   6. ,   4. ],\n",
       "       [ -5. ,   7. , -42. ,   2. ]])"
      ]
     },
     "execution_count": 23,
     "metadata": {},
     "output_type": "execute_result"
    }
   ],
   "source": [
    "# uncomment below to print array_a\n",
    "array_a"
   ]
  },
  {
   "cell_type": "code",
   "execution_count": 25,
   "metadata": {},
   "outputs": [
    {
     "data": {
      "text/plain": [
       "array([[ 42,  38,  34],\n",
       "       [ 30,  26,  22],\n",
       "       [ 18,  14,  10],\n",
       "       [  6,   2,  -2],\n",
       "       [ -6, -10, -14]])"
      ]
     },
     "execution_count": 25,
     "metadata": {},
     "output_type": "execute_result"
    }
   ],
   "source": [
    "# uncomment below to print array_b\n",
    "array_b"
   ]
  },
  {
   "cell_type": "markdown",
   "metadata": {},
   "source": [
    "## Part 2.2: Exploring Arrays (15 points)\n",
    "\n",
    "1. Give the shape, size, ndim, and nbytes for each of the two arrays.\n",
    "1. Take the transpose of both arrays. Call these `t_array_a` and `t_array_b`.\n",
    "1. Try to add `array_a` and `t_array_b` (*prove* and *show* you did this with commented out code), then remove the last column of `t_array_b` and try to add them again. In a markdown cell, explain what happened."
   ]
  },
  {
   "cell_type": "code",
   "execution_count": 30,
   "metadata": {},
   "outputs": [
    {
     "data": {
      "text/plain": [
       "array([[ 42,  30,  18,   6,  -6],\n",
       "       [ 38,  26,  14,   2, -10],\n",
       "       [ 34,  22,  10,  -2, -14]])"
      ]
     },
     "execution_count": 30,
     "metadata": {},
     "output_type": "execute_result"
    }
   ],
   "source": [
    "t_array_a = array_a.T\n",
    "t_array_b = array_b.T\n",
    "t_array_b"
   ]
  },
  {
   "cell_type": "code",
   "execution_count": 33,
   "metadata": {},
   "outputs": [
    {
     "data": {
      "text/plain": [
       "array([[  3. ,   0.5,  -5. ],\n",
       "       [  8. ,  -1. ,   7. ],\n",
       "       [ -2. ,   6. , -42. ],\n",
       "       [  3. ,   4. ,   2. ]])"
      ]
     },
     "execution_count": 33,
     "metadata": {},
     "output_type": "execute_result"
    }
   ],
   "source": [
    "t_array_a"
   ]
  },
  {
   "cell_type": "code",
   "execution_count": 42,
   "metadata": {},
   "outputs": [
    {
     "ename": "ValueError",
     "evalue": "all the input array dimensions except for the concatenation axis must match exactly, but along dimension 1, the array at index 0 has size 4 and the array at index 1 has size 5",
     "output_type": "error",
     "traceback": [
      "\u001b[0;31m---------------------------------------------------------------------------\u001b[0m",
      "\u001b[0;31mValueError\u001b[0m                                Traceback (most recent call last)",
      "Cell \u001b[0;32mIn[42], line 1\u001b[0m\n\u001b[0;32m----> 1\u001b[0m np\u001b[38;5;241m.\u001b[39mconcatenate((array_a, t_array_b))\n",
      "File \u001b[0;32m<__array_function__ internals>:200\u001b[0m, in \u001b[0;36mconcatenate\u001b[0;34m(*args, **kwargs)\u001b[0m\n",
      "\u001b[0;31mValueError\u001b[0m: all the input array dimensions except for the concatenation axis must match exactly, but along dimension 1, the array at index 0 has size 4 and the array at index 1 has size 5"
     ]
    }
   ],
   "source": [
    "np.concatenate((array_a, t_array_b)) # gives an error saying that they have different sizes since array_a is (3,4) and t_array_b is (3,5)"
   ]
  },
  {
   "cell_type": "code",
   "execution_count": 44,
   "metadata": {},
   "outputs": [
    {
     "data": {
      "text/plain": [
       "array([[  3. ,   8. ,  -2. ,   3. ],\n",
       "       [  0.5,  -1. ,   6. ,   4. ],\n",
       "       [ -5. ,   7. , -42. ,   2. ],\n",
       "       [ 42. ,  18. ,   6. ,  -6. ],\n",
       "       [ 38. ,  14. ,   2. , -10. ],\n",
       "       [ 34. ,  10. ,  -2. , -14. ]])"
      ]
     },
     "execution_count": 44,
     "metadata": {},
     "output_type": "execute_result"
    }
   ],
   "source": [
    "new_t_array_b = np.delete(t_array_b, 1, axis=1)\n",
    "np.concatenate((array_a, new_t_array_b))"
   ]
  },
  {
   "cell_type": "markdown",
   "metadata": {},
   "source": [
    "# Part 3: Pandas\n",
    "## Part 3.1: Reading in Data (5 points)\n",
    "\n",
    "On Canvas is the `train_stations_europe.csv` file. It was adapted from [this Kaggle data set](https://www.kaggle.com/datasets/headsortails/train-stations-in-europe). Read this data set in, using the `id` as the index column, and print the first few rows of the data. Make sure you keep the `import` statement below!"
   ]
  },
  {
   "cell_type": "code",
   "execution_count": 46,
   "metadata": {},
   "outputs": [],
   "source": [
    "# make sure to import pandas library\n",
    "import pandas as pd"
   ]
  },
  {
   "cell_type": "code",
   "execution_count": 52,
   "metadata": {},
   "outputs": [
    {
     "data": {
      "text/html": [
       "<div>\n",
       "<style scoped>\n",
       "    .dataframe tbody tr th:only-of-type {\n",
       "        vertical-align: middle;\n",
       "    }\n",
       "\n",
       "    .dataframe tbody tr th {\n",
       "        vertical-align: top;\n",
       "    }\n",
       "\n",
       "    .dataframe thead th {\n",
       "        text-align: right;\n",
       "    }\n",
       "</style>\n",
       "<table border=\"1\" class=\"dataframe\">\n",
       "  <thead>\n",
       "    <tr style=\"text-align: right;\">\n",
       "      <th></th>\n",
       "      <th>name</th>\n",
       "      <th>latitude</th>\n",
       "      <th>longitude</th>\n",
       "      <th>parent_station_id</th>\n",
       "      <th>country</th>\n",
       "      <th>time_zone</th>\n",
       "      <th>is_city</th>\n",
       "      <th>is_main_station</th>\n",
       "      <th>is_airport</th>\n",
       "    </tr>\n",
       "    <tr>\n",
       "      <th>id</th>\n",
       "      <th></th>\n",
       "      <th></th>\n",
       "      <th></th>\n",
       "      <th></th>\n",
       "      <th></th>\n",
       "      <th></th>\n",
       "      <th></th>\n",
       "      <th></th>\n",
       "      <th></th>\n",
       "    </tr>\n",
       "  </thead>\n",
       "  <tbody>\n",
       "    <tr>\n",
       "      <th>1</th>\n",
       "      <td>Chateau-Arnoux-St-Auban</td>\n",
       "      <td>44.081790</td>\n",
       "      <td>6.001625</td>\n",
       "      <td>NaN</td>\n",
       "      <td>FR</td>\n",
       "      <td>Europe/Paris</td>\n",
       "      <td>True</td>\n",
       "      <td>False</td>\n",
       "      <td>False</td>\n",
       "    </tr>\n",
       "    <tr>\n",
       "      <th>2</th>\n",
       "      <td>Chateau-Arnoux-St-Auban</td>\n",
       "      <td>44.061565</td>\n",
       "      <td>5.997373</td>\n",
       "      <td>1.0</td>\n",
       "      <td>FR</td>\n",
       "      <td>Europe/Paris</td>\n",
       "      <td>False</td>\n",
       "      <td>True</td>\n",
       "      <td>False</td>\n",
       "    </tr>\n",
       "    <tr>\n",
       "      <th>3</th>\n",
       "      <td>Chateau-Arnoux Mairie</td>\n",
       "      <td>44.063863</td>\n",
       "      <td>6.011248</td>\n",
       "      <td>1.0</td>\n",
       "      <td>FR</td>\n",
       "      <td>Europe/Paris</td>\n",
       "      <td>False</td>\n",
       "      <td>False</td>\n",
       "      <td>False</td>\n",
       "    </tr>\n",
       "    <tr>\n",
       "      <th>4</th>\n",
       "      <td>Digne-les-Bains</td>\n",
       "      <td>44.350000</td>\n",
       "      <td>6.350000</td>\n",
       "      <td>NaN</td>\n",
       "      <td>FR</td>\n",
       "      <td>Europe/Paris</td>\n",
       "      <td>True</td>\n",
       "      <td>False</td>\n",
       "      <td>False</td>\n",
       "    </tr>\n",
       "    <tr>\n",
       "      <th>6</th>\n",
       "      <td>Digne-les-Bains</td>\n",
       "      <td>44.088710</td>\n",
       "      <td>6.222982</td>\n",
       "      <td>4.0</td>\n",
       "      <td>FR</td>\n",
       "      <td>Europe/Paris</td>\n",
       "      <td>False</td>\n",
       "      <td>True</td>\n",
       "      <td>False</td>\n",
       "    </tr>\n",
       "  </tbody>\n",
       "</table>\n",
       "</div>"
      ],
      "text/plain": [
       "                       name   latitude  longitude  parent_station_id country  \\\n",
       "id                                                                             \n",
       "1   Chateau-Arnoux-St-Auban  44.081790   6.001625                NaN      FR   \n",
       "2   Chateau-Arnoux-St-Auban  44.061565   5.997373                1.0      FR   \n",
       "3     Chateau-Arnoux Mairie  44.063863   6.011248                1.0      FR   \n",
       "4           Digne-les-Bains  44.350000   6.350000                NaN      FR   \n",
       "6           Digne-les-Bains  44.088710   6.222982                4.0      FR   \n",
       "\n",
       "       time_zone  is_city  is_main_station  is_airport  \n",
       "id                                                      \n",
       "1   Europe/Paris     True            False       False  \n",
       "2   Europe/Paris    False             True       False  \n",
       "3   Europe/Paris    False            False       False  \n",
       "4   Europe/Paris     True            False       False  \n",
       "6   Europe/Paris    False             True       False  "
      ]
     },
     "execution_count": 52,
     "metadata": {},
     "output_type": "execute_result"
    }
   ],
   "source": [
    "filename = 'train_stations_europe.csv'\n",
    "df = pd.read_csv(filename, index_col='id')\n",
    "df.head()"
   ]
  },
  {
   "cell_type": "markdown",
   "metadata": {},
   "source": [
    "## Part 3.2: Manipulating Data (20 points)\n",
    "\n",
    "1. Create a subset of the data set which (a) **includes** only train stations in Belgium and (b) **excludes** all train stations which are **not** in a city. Make sure to save this subset as a new data frame and print the first few rows of the data.\n",
    "1. Use the `.describe()` function to produce summary statistics for the subset from the previous part. Create a markdown cell and explain:\n",
    "    - What Series did the `.describe()` function run on? What Series did it not run on? What is the difference, and what does this mean the `.describe()` function is used for?"
   ]
  },
  {
   "cell_type": "code",
   "execution_count": 75,
   "metadata": {},
   "outputs": [
    {
     "data": {
      "text/html": [
       "<div>\n",
       "<style scoped>\n",
       "    .dataframe tbody tr th:only-of-type {\n",
       "        vertical-align: middle;\n",
       "    }\n",
       "\n",
       "    .dataframe tbody tr th {\n",
       "        vertical-align: top;\n",
       "    }\n",
       "\n",
       "    .dataframe thead th {\n",
       "        text-align: right;\n",
       "    }\n",
       "</style>\n",
       "<table border=\"1\" class=\"dataframe\">\n",
       "  <thead>\n",
       "    <tr style=\"text-align: right;\">\n",
       "      <th></th>\n",
       "      <th>name</th>\n",
       "      <th>latitude</th>\n",
       "      <th>longitude</th>\n",
       "      <th>parent_station_id</th>\n",
       "      <th>country</th>\n",
       "      <th>time_zone</th>\n",
       "      <th>is_city</th>\n",
       "      <th>is_main_station</th>\n",
       "      <th>is_airport</th>\n",
       "    </tr>\n",
       "    <tr>\n",
       "      <th>id</th>\n",
       "      <th></th>\n",
       "      <th></th>\n",
       "      <th></th>\n",
       "      <th></th>\n",
       "      <th></th>\n",
       "      <th></th>\n",
       "      <th></th>\n",
       "      <th></th>\n",
       "      <th></th>\n",
       "    </tr>\n",
       "  </thead>\n",
       "  <tbody>\n",
       "    <tr>\n",
       "      <th>5964</th>\n",
       "      <td>Antwerpen</td>\n",
       "      <td>51.221722</td>\n",
       "      <td>4.405860</td>\n",
       "      <td>NaN</td>\n",
       "      <td>BE</td>\n",
       "      <td>Europe/Brussels</td>\n",
       "      <td>True</td>\n",
       "      <td>False</td>\n",
       "      <td>False</td>\n",
       "    </tr>\n",
       "    <tr>\n",
       "      <th>5970</th>\n",
       "      <td>Blandain Ville</td>\n",
       "      <td>50.617431</td>\n",
       "      <td>3.263740</td>\n",
       "      <td>NaN</td>\n",
       "      <td>BE</td>\n",
       "      <td>Europe/Brussels</td>\n",
       "      <td>True</td>\n",
       "      <td>False</td>\n",
       "      <td>False</td>\n",
       "    </tr>\n",
       "    <tr>\n",
       "      <th>5974</th>\n",
       "      <td>Bruxelles</td>\n",
       "      <td>50.846520</td>\n",
       "      <td>4.351739</td>\n",
       "      <td>NaN</td>\n",
       "      <td>BE</td>\n",
       "      <td>Europe/Brussels</td>\n",
       "      <td>True</td>\n",
       "      <td>False</td>\n",
       "      <td>False</td>\n",
       "    </tr>\n",
       "    <tr>\n",
       "      <th>6003</th>\n",
       "      <td>Quevy Ville</td>\n",
       "      <td>NaN</td>\n",
       "      <td>NaN</td>\n",
       "      <td>NaN</td>\n",
       "      <td>BE</td>\n",
       "      <td>Europe/Brussels</td>\n",
       "      <td>True</td>\n",
       "      <td>False</td>\n",
       "      <td>False</td>\n",
       "    </tr>\n",
       "    <tr>\n",
       "      <th>6006</th>\n",
       "      <td>Sterpenich Ville</td>\n",
       "      <td>NaN</td>\n",
       "      <td>NaN</td>\n",
       "      <td>NaN</td>\n",
       "      <td>BE</td>\n",
       "      <td>Europe/Brussels</td>\n",
       "      <td>True</td>\n",
       "      <td>False</td>\n",
       "      <td>False</td>\n",
       "    </tr>\n",
       "  </tbody>\n",
       "</table>\n",
       "</div>"
      ],
      "text/plain": [
       "                  name   latitude  longitude  parent_station_id country  \\\n",
       "id                                                                        \n",
       "5964         Antwerpen  51.221722   4.405860                NaN      BE   \n",
       "5970    Blandain Ville  50.617431   3.263740                NaN      BE   \n",
       "5974         Bruxelles  50.846520   4.351739                NaN      BE   \n",
       "6003       Quevy Ville        NaN        NaN                NaN      BE   \n",
       "6006  Sterpenich Ville        NaN        NaN                NaN      BE   \n",
       "\n",
       "            time_zone  is_city  is_main_station  is_airport  \n",
       "id                                                           \n",
       "5964  Europe/Brussels     True            False       False  \n",
       "5970  Europe/Brussels     True            False       False  \n",
       "5974  Europe/Brussels     True            False       False  \n",
       "6003  Europe/Brussels     True            False       False  \n",
       "6006  Europe/Brussels     True            False       False  "
      ]
     },
     "execution_count": 75,
     "metadata": {},
     "output_type": "execute_result"
    }
   ],
   "source": [
    "be_df = df[df['country'].isin(['BE'])]\n",
    "new_df = be_df[be_df.is_city != False]\n",
    "new_df.head()"
   ]
  },
  {
   "cell_type": "code",
   "execution_count": 83,
   "metadata": {},
   "outputs": [
    {
     "data": {
      "text/plain": [
       "count     64037\n",
       "unique        2\n",
       "top       False\n",
       "freq      63453\n",
       "Name: country, dtype: object"
      ]
     },
     "execution_count": 83,
     "metadata": {},
     "output_type": "execute_result"
    }
   ],
   "source": [
    "be = df.country == 'BE'\n",
    "be.describe()"
   ]
  },
  {
   "cell_type": "markdown",
   "metadata": {},
   "source": [
    "This function ran on the series of countries. It only includes whether the country == BE and the id, excluding all other columns. This means that the describe function gives summary statistics of numerical data, showing the count and other statistics."
   ]
  },
  {
   "cell_type": "markdown",
   "metadata": {},
   "source": [
    "# Part 4: GitHub (10 points)\n",
    "\n",
    "When you finish the first three parts, give one last restart and run all to this file. Then, go to the [DS 3000 GitHub](https://github.com/eaegerber/ds3000_summer25), fork it and then clone it to your local machine. Then:\n",
    "\n",
    "- In the forked and cloned ds3000_summer25 repo, make a new branch (`git checkout -b lab-upload`)\n",
    "- Create a folder with your name (as Dr. Gerber did)\n",
    "- Navigate to that folder and place this jupyter notebook inside\n",
    "- Add the file as the change to be committed (`git add .\\Lab1_MyName.ipynb`)\n",
    "- Check `git status`, your changes should be staged\n",
    "- Commit the changes with a short message (`git commit -m \"My message\"`)\n",
    "- Push the repository to GitHub (`git push origin lab-upload`)\n",
    "- Navigate the the GitHub in the browser and create a pull request\n",
    "- Once the pull request is merged, you can delete your branch in the \"Pull Requests\" tab in the browser\n",
    "- Finally, upload the Lab to Gradescope. When you do so, it will give you the option to do it via GitHub; do that."
   ]
  }
 ],
 "metadata": {
  "kernelspec": {
   "display_name": "Python 3 (ipykernel)",
   "language": "python",
   "name": "python3"
  },
  "language_info": {
   "codemirror_mode": {
    "name": "ipython",
    "version": 3
   },
   "file_extension": ".py",
   "mimetype": "text/x-python",
   "name": "python",
   "nbconvert_exporter": "python",
   "pygments_lexer": "ipython3",
   "version": "3.11.5"
  }
 },
 "nbformat": 4,
 "nbformat_minor": 4
}
